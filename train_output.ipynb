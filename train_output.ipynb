{
 "cells": [
  {
   "cell_type": "code",
   "execution_count": 1,
   "id": "ef2a538c-4005-476b-8e08-246cc020178f",
   "metadata": {
    "execution": {
     "iopub.execute_input": "2025-02-24T14:10:12.347161Z",
     "iopub.status.busy": "2025-02-24T14:10:12.346179Z",
     "iopub.status.idle": "2025-02-24T14:10:15.485134Z",
     "shell.execute_reply": "2025-02-24T14:10:15.484606Z"
    },
    "tags": []
   },
   "outputs": [
    {
     "name": "stdout",
     "output_type": "stream",
     "text": [
      "🔹 Training K-Means...\n"
     ]
    },
    {
     "name": "stdout",
     "output_type": "stream",
     "text": [
      "✅ Model 'kmeans' trained and saved as 'mlmodels/kmeans_model.pkl'\n",
      "✅ Training complete. Model and plots saved successfully.\n"
     ]
    }
   ],
   "source": [
    "import os\n",
    "import json\n",
    "import pandas as pd\n",
    "import numpy as np\n",
    "from sklearn.feature_extraction.text import TfidfVectorizer\n",
    "from sklearn.decomposition import PCA\n",
    "from sklearn.preprocessing import StandardScaler\n",
    "from sklearn.cluster import KMeans, DBSCAN, AgglomerativeClustering\n",
    "import joblib\n",
    "import matplotlib.pyplot as plt\n",
    "import seaborn as sns\n",
    "\n",
    "# ✅ Read parameters from JSON file\n",
    "PARAMS_FILE = \"train_params.json\"\n",
    "if os.path.exists(PARAMS_FILE):\n",
    "    with open(PARAMS_FILE, \"r\") as f:\n",
    "        params = json.load(f)\n",
    "    dataset_path = params.get(\"dataset_path\", \"\")\n",
    "    selected_model = params.get(\"model\", \"kmeans\").lower()\n",
    "    hyperparameters = params.get(\"hyperparameters\", {})\n",
    "else:\n",
    "    print(\"❌ Error: JSON parameters file not found.\")\n",
    "    exit(1)\n",
    "\n",
    "# ✅ Ensure dataset exists\n",
    "if not os.path.exists(dataset_path):\n",
    "    print(f\"❌ Error: Dataset file '{dataset_path}' not found.\")\n",
    "    exit(1)\n",
    "\n",
    "# ✅ Load dataset\n",
    "df = pd.read_excel(dataset_path, engine=\"openpyxl\")\n",
    "\n",
    "tfidf = TfidfVectorizer(max_features=2000, ngram_range=(1,2))\n",
    "X = tfidf.fit_transform(df['Description'])\n",
    "\n",
    "pca = PCA(n_components=2)\n",
    "X_pca = pca.fit_transform(X.toarray())\n",
    "df['PCA1'] = X_pca[:, 0]\n",
    "df['PCA2'] = X_pca[:, 1]\n",
    "\n",
    "model = None\n",
    "output_folder = \"static/plots\"\n",
    "os.makedirs(output_folder, exist_ok=True)\n",
    "os.makedirs(\"mlmodels\", exist_ok=True)\n",
    "\n",
    "if selected_model == \"kmeans\":\n",
    "    print(\"🔹 Training K-Means...\")\n",
    "    n_clusters = int(hyperparameters.get(\"n_clusters\", 5))\n",
    "    model = KMeans(n_clusters=n_clusters, random_state=42, n_init=10)\n",
    "    df['Cluster'] = model.fit_predict(X)\n",
    "    model_filename = \"mlmodels/kmeans_model.pkl\"\n",
    "\n",
    "    plt.figure(figsize=(6, 5))\n",
    "    sns.scatterplot(x='PCA1', y='PCA2', hue='Cluster', data=df, palette='viridis', s=100)\n",
    "    plt.title(f'K-Means Clustering ({n_clusters} Clusters)')\n",
    "    plt.savefig(f\"{output_folder}/kmeans_plot.png\")\n",
    "    plt.close()\n",
    "\n",
    "elif selected_model == \"dbscan\":\n",
    "    print(\"🔹 Training DBSCAN...\")\n",
    "    eps = float(hyperparameters.get(\"eps\", 0.5))\n",
    "    min_samples = int(hyperparameters.get(\"min_samples\", 5))\n",
    "    model = DBSCAN(eps=eps, min_samples=min_samples, metric='euclidean')\n",
    "    df['Cluster'] = model.fit_predict(X)\n",
    "    model_filename = \"mlmodels/dbscan_model.pkl\"\n",
    "\n",
    "    plt.figure(figsize=(6, 5))\n",
    "    sns.scatterplot(x='PCA1', y='PCA2', hue='Cluster', data=df, palette='viridis', s=100)\n",
    "    plt.title(f'DBSCAN Clustering (eps={eps}, min_samples={min_samples})')\n",
    "    plt.savefig(f\"{output_folder}/dbscan_plot.png\")\n",
    "    plt.close()\n",
    "\n",
    "elif selected_model == \"hierarchical\":\n",
    "    print(\"🔹 Training Hierarchical Clustering...\")\n",
    "    n_clusters = int(hyperparameters.get(\"n_clusters\", 5))\n",
    "    model = AgglomerativeClustering(n_clusters=n_clusters)\n",
    "    df['Cluster'] = model.fit_predict(X.toarray())\n",
    "    model_filename = \"mlmodels/hierarchical_model.pkl\"\n",
    "\n",
    "    plt.figure(figsize=(6, 5))\n",
    "    sns.scatterplot(x='PCA1', y='PCA2', hue='Cluster', data=df, palette='viridis', s=100)\n",
    "    plt.title(f'Hierarchical Clustering ({n_clusters} Clusters)')\n",
    "    plt.savefig(f\"{output_folder}/hierarchical_plot.png\")\n",
    "    plt.close()\n",
    "\n",
    "else:\n",
    "    print(f\"❌ Unknown model: {selected_model}\")\n",
    "    exit(1)\n",
    "\n",
    "# ✅ Save Model\n",
    "# ✅ Save the trained TF-IDF vectorizer\n",
    "joblib.dump(tfidf, \"mlmodels/tfidf_vectorizer.pkl\")\n",
    "\n",
    "joblib.dump(model, model_filename)\n",
    "print(f\"✅ Model '{selected_model}' trained and saved as '{model_filename}'\")\n",
    "\n",
    "# ✅ Save updated dataset\n",
    "df.to_csv('clustered_dataset.csv', index=False)\n",
    "\n",
    "print(\"✅ Training complete. Model and plots saved successfully.\")\n"
   ]
  },
  {
   "cell_type": "code",
   "execution_count": null,
   "id": "ff0fd170-9d8d-4660-be5f-6bdbcb5ca206",
   "metadata": {},
   "outputs": [],
   "source": []
  },
  {
   "cell_type": "code",
   "execution_count": null,
   "id": "90e29909-f973-4f7a-a6f8-35c9817e0368",
   "metadata": {},
   "outputs": [],
   "source": []
  },
  {
   "cell_type": "code",
   "execution_count": null,
   "id": "e3c7c9ae-3fd2-4571-b05f-29506a21ad5e",
   "metadata": {},
   "outputs": [],
   "source": []
  },
  {
   "cell_type": "code",
   "execution_count": null,
   "id": "dc0f96e1-8e6d-4c82-a5c5-a8515f7f5e5c",
   "metadata": {},
   "outputs": [],
   "source": []
  },
  {
   "cell_type": "code",
   "execution_count": null,
   "id": "985067e0-db81-4a57-8419-90fbfb1e3f84",
   "metadata": {},
   "outputs": [],
   "source": []
  },
  {
   "cell_type": "code",
   "execution_count": null,
   "id": "cd71f54b-ad1b-4937-9bb3-bbab67e89f5d",
   "metadata": {},
   "outputs": [],
   "source": []
  }
 ],
 "metadata": {
  "kernelspec": {
   "display_name": "venv",
   "language": "python",
   "name": "venv"
  },
  "language_info": {
   "codemirror_mode": {
    "name": "ipython",
    "version": 3
   },
   "file_extension": ".py",
   "mimetype": "text/x-python",
   "name": "python",
   "nbconvert_exporter": "python",
   "pygments_lexer": "ipython3",
   "version": "3.11.7"
  }
 },
 "nbformat": 4,
 "nbformat_minor": 5
}
